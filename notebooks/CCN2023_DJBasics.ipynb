{
 "cells": [
  {
   "cell_type": "markdown",
   "id": "4178a85c-c7bf-49a0-bdd9-8bc9907b890d",
   "metadata": {},
   "source": [
    "# Tutorial\n",
    "\n",
    "This notebook will highlight key features of DataJoint pipelines and teach you to load and fetch data from custom tables.\n",
    "\n",
    "In our experiment, we took 1-dimensional position measurements of mice using one of two cameras. Camera A had a sampling rate of 30 frames/sec and Camera B had a sampling rate of 45 frames/sec. We’re interested in (a) each subject’s average travel time and velocity, and (b) the relationship between subject age and velocity.\n",
    "\n",
    "## Learning goals\n",
    "\n",
    "By the end of this tutorial, you will understand…\n",
    "\n",
    "- DataJoint table types (Manual, Lookup, Computed, Imported),\n",
    "- Primary keys & secondary attributes in a relational database table,\n",
    "- Automated data processing in DataJoint tables,\n",
    "- Querying DataJoint tables.\n"
   ]
  },
  {
   "cell_type": "markdown",
   "id": "7913afe4-d258-480b-b275-e79752f0864b",
   "metadata": {},
   "source": [
    "## DataJoint Principles\n",
    "\n",
    "We'll import datajoint and declare a schema with our username.\n"
   ]
  },
  {
   "cell_type": "code",
   "execution_count": null,
   "id": "4f0bc986-0c77-4941-8f3c-3a32a4a92ac6",
   "metadata": {},
   "outputs": [],
   "source": [
    "import os\n",
    "import datajoint as dj\n",
    "\n",
    "schema = dj.Schema(f\"{dj.config['database.user']}_ccn2023_\") # \"YOUR-USERNAM_ccn2023_\"\n",
    "HOME = os.getenv(\"HOME\")\n",
    "# schema.drop() # To start over, drop this schema\n"
   ]
  },
  {
   "cell_type": "markdown",
   "id": "8f1fd38d-6654-4ceb-ab64-0f73dfe73907",
   "metadata": {},
   "source": [
    "## Data\n",
    "Please generate the position data running the cell below:"
   ]
  },
  {
   "cell_type": "code",
   "execution_count": null,
   "id": "6882cfd3-ad49-4f9a-be59-7c2d69128a45",
   "metadata": {},
   "outputs": [],
   "source": [
    "import numpy as np\n",
    "\n",
    "def simulate_kinematics_data(n=10):    \n",
    "    for j in range(n):\n",
    "        camera, fps_factor = (\"A\", 1) if j % 2 == 0 else (\"B\", 1.5)  # Alternate cams\n",
    "        x = 0\n",
    "        final = [x]\n",
    "        while x < 50:  # Before position reaches 50, end of track\n",
    "            x += (  # Increment X\n",
    "                np.sign(\n",
    "                    (np.random.randn() + 0.1)  # Randomly move, bias forward\n",
    "                    * ((j + 1) / 2)  # Higher N younger subjects move faster\n",
    "                )\n",
    "                / fps_factor  # Slow down subjects with faster fps\n",
    "            )\n",
    "            final.append(x)  # Add to numpy array\n",
    "        \n",
    "        np.save(f\"{HOME}/subject{j}_camera{camera}_kinematics.npy\", final)\n",
    "\n",
    "simulate_kinematics_data(n=10)"
   ]
  },
  {
   "cell_type": "markdown",
   "id": "1b647780-0a61-498a-be7e-f22877e9fc08",
   "metadata": {},
   "source": [
    "### Declaring tables\n",
    "\n",
    "Next, we'll create a **Subject** table to store sex and date of birth information.\n"
   ]
  },
  {
   "cell_type": "code",
   "execution_count": null,
   "id": "c84b315e-fd36-4740-a1cb-7095b0ac3289",
   "metadata": {},
   "outputs": [],
   "source": [
    "@schema  # Decorator places the table within the schema\n",
    "class Subject(dj.Manual):  # The table is a class that inherits from the Manual type\n",
    "    definition = \"\"\"          # Here, we define the table itself, with variable: data type\n",
    "    subject_id: int           # Above the '---' separator is the primary key\n",
    "    ---\n",
    "    sex: enum('M', 'F', 'U')  # Sex and DOB are secondary attributes \n",
    "    dob: date\n",
    "    \"\"\"\n"
   ]
  },
  {
   "cell_type": "markdown",
   "id": "ddb3c4fe-0537-4b2b-b9ad-50d3a892d98a",
   "metadata": {},
   "source": [
    "To look at the table information, we can use any of the following:\n"
   ]
  },
  {
   "cell_type": "code",
   "execution_count": null,
   "id": "933c07d4-b2d3-45c9-9063-0f18b74e0258",
   "metadata": {},
   "outputs": [],
   "source": [
    "Subject()  # Show table and contents\n",
    "# Subject.heading       # Show table definition\n"
   ]
  },
  {
   "cell_type": "markdown",
   "id": "c964cac2-07df-495d-b3e7-da9bbda48425",
   "metadata": {},
   "source": [
    "### Data Entry\n",
    "\n",
    "We can manually enter data in many different formats (e.g., `list`, `dict`, `tuple`, CSV).\n",
    "\n",
    "Here, we'll manually enter two subjects using lists that correspond to the fields above.\n"
   ]
  },
  {
   "cell_type": "code",
   "execution_count": null,
   "id": "111341d8-67c9-4735-acce-dbcf380e2823",
   "metadata": {},
   "outputs": [],
   "source": [
    "Subject.insert([[0, \"M\", \"2023-01-01\"], [1, \"F\", \"2023-01-02\"]])\n"
   ]
  },
  {
   "cell_type": "markdown",
   "id": "cf386333-c41e-490e-801e-de1641a16f32",
   "metadata": {},
   "source": [
    "Confirming data entry...\n"
   ]
  },
  {
   "cell_type": "code",
   "execution_count": null,
   "id": "27a9c476-9582-4013-8b1e-619cddbac9ab",
   "metadata": {},
   "outputs": [],
   "source": [
    "Subject()\n"
   ]
  },
  {
   "cell_type": "markdown",
   "id": "6b00ebb2-7f43-4a55-8695-afb35e8c1ef6",
   "metadata": {},
   "source": [
    "### Data Queries\n",
    "\n",
    "We can `fetch` one or more fields of a table as follows:\n"
   ]
  },
  {
   "cell_type": "code",
   "execution_count": null,
   "id": "7b24e3fa-b29d-412c-ab55-9a6da00e235f",
   "metadata": {},
   "outputs": [],
   "source": [
    "data = Subject.fetch()\n",
    "print(\"All data: \", data)\n"
   ]
  },
  {
   "cell_type": "code",
   "execution_count": null,
   "id": "5804a77d-49a7-4f53-bb36-c9053d98e090",
   "metadata": {},
   "outputs": [],
   "source": [
    "sexes, dobs = Subject.fetch(\"sex\", \"dob\")\n",
    "print(\"Just sex: \", sexes)\n",
    "print(\"Just DOB: \", dobs)\n"
   ]
  },
  {
   "cell_type": "markdown",
   "id": "81f8d6ea-a23c-48d7-8a7e-710fd5a5812a",
   "metadata": {},
   "source": [
    "Note that DOB is in `datetime.date` format. While we can enter strings, they are formatted according to the table's datatype have the benefits of specificity over simple strings.\n"
   ]
  },
  {
   "cell_type": "code",
   "execution_count": null,
   "id": "804dc8ce-93c9-4ffa-a4bd-036b814976a7",
   "metadata": {},
   "outputs": [],
   "source": [
    "from datetime import date\n",
    "\n",
    "print(f\"Age: {(date.today() - dobs[0]).days}\")\n"
   ]
  },
  {
   "cell_type": "markdown",
   "id": "4889e07e-fe5e-4641-881e-ebb3f27c16c6",
   "metadata": {},
   "source": [
    "### Table Types\n",
    "\n",
    "Next, let's add tables for **Equipment** and **Recording** information.\n",
    "\n",
    "The **Manual** `Subject` table above is designed for regular data entry. **Lookup**\n",
    "tables are for reference information and permit default content. This is useful for\n",
    "complex we wouldn't want to repeat in each row of another table, like parameter sets.\n"
   ]
  },
  {
   "cell_type": "code",
   "execution_count": null,
   "id": "1227ea8a-cb53-4e4c-98e5-1026a1e17399",
   "metadata": {},
   "outputs": [],
   "source": [
    "@schema\n",
    "class Equipment(dj.Lookup):\n",
    "    definition = \"\"\"\n",
    "    equipment: varchar(8)\n",
    "    ---\n",
    "    sampling_rate: int  # frame per second [1/s]\n",
    "    \"\"\"\n",
    "    contents = [(\"cameraA\", 30), (\"cameraB\", 45)]\n"
   ]
  },
  {
   "cell_type": "markdown",
   "id": "b2988fed-5cb8-4ccd-bbdc-409f337f3d13",
   "metadata": {},
   "source": [
    "**Imported** and **Computed** tables are both associated with processing via their\n",
    "`make` functions. Imported tables pull data from files, whereas Computed tables populate\n",
    "from data already in the pipeline.\n"
   ]
  },
  {
   "cell_type": "code",
   "execution_count": null,
   "id": "36e19176-f8e4-48b3-b3b6-5304ac181aea",
   "metadata": {},
   "outputs": [],
   "source": [
    "@schema\n",
    "class Recording(dj.Imported):\n",
    "    definition = \"\"\"               \n",
    "    -> Subject                     # -> draw connections to other tables\n",
    "    ---                            # These are foreign key references\n",
    "    -> Equipment\n",
    "    recording_file: varchar(64)\n",
    "    position : longblob            # longblob can be used to store large arbitrary data\n",
    "    \"\"\"\n",
    "\n",
    "    def make(self, key):\n",
    "        from pathlib import Path\n",
    "        import numpy as np\n",
    "\n",
    "        subject_id = (Subject & key).fetch1(\"subject_id\")  # fetch id from 'upstream'\n",
    "        full_path = list(Path(f\"{HOME}\").glob(f\"subject{subject_id}*npy\"))[0].as_posix()\n",
    "        relative_path = list(Path(f\"{HOME}\").glob(f\"subject{subject_id}*npy\"))[0].relative_to(f\"{HOME}\").as_posix() # look for the subj's file        \n",
    "        \n",
    "        equipment = relative_path.split(\"_\")[1]  # find the camera id in the file name\n",
    "        position = np.load(full_path)  # load position information\n",
    "\n",
    "        self.insert1(\n",
    "            {\n",
    "                **key,\n",
    "                \"equipment\": equipment,\n",
    "                \"position\": position,\n",
    "                \"recording_file\": relative_path,\n",
    "            }\n",
    "        )\n"
   ]
  },
  {
   "cell_type": "markdown",
   "id": "d1adb9f4-4766-44be-a8e0-0ee0c8bedbcc",
   "metadata": {},
   "source": [
    "To execute the `make` function, we run the `populate` method.\n",
    "\n",
    "Note: populate will only operate once for each foreign key. To make adjustments and\n",
    "rerun, use the `delete` method to clear current entries or the `drop` method the delete\n",
    "the table entirely.\n"
   ]
  },
  {
   "cell_type": "code",
   "execution_count": null,
   "id": "3a5197e9-f38a-4845-b2f3-2434de5c6d89",
   "metadata": {},
   "outputs": [],
   "source": [
    "Recording.populate()\n",
    "Recording()\n"
   ]
  },
  {
   "cell_type": "markdown",
   "id": "a0e07306-9903-44af-b2d9-1e67c8e897df",
   "metadata": {},
   "source": [
    "In the following **Computed** table, we'll process the position data with another `make`\n",
    "function.\n"
   ]
  },
  {
   "cell_type": "code",
   "execution_count": null,
   "id": "afc7004e-110f-4f6e-81ec-e0636e9a8a5d",
   "metadata": {},
   "outputs": [],
   "source": [
    "@schema\n",
    "class Kinematics(dj.Computed):\n",
    "    definition = \"\"\"\n",
    "    -> Subject\n",
    "    ---\n",
    "    displacement: longblob\n",
    "    travel_time: float\n",
    "    average_velocity: float\n",
    "    \"\"\"\n",
    "\n",
    "    def make(self, key):\n",
    "        import numpy as np\n",
    "\n",
    "        # This combines tables before fetching. See Operators below\n",
    "        sampling_rate, position = (Recording * Equipment & key).fetch1(\n",
    "            \"sampling_rate\", \"position\"\n",
    "        )\n",
    "\n",
    "        displacement = position[-1] - position[0]\n",
    "        travel_time = len(position) / sampling_rate\n",
    "        average_velocity = displacement / travel_time\n",
    "\n",
    "        self.insert1(\n",
    "            {\n",
    "                **key,\n",
    "                \"displacement\": displacement,\n",
    "                \"travel_time\": travel_time,\n",
    "                \"average_velocity\": average_velocity,\n",
    "            }\n",
    "        )\n"
   ]
  },
  {
   "cell_type": "code",
   "execution_count": null,
   "id": "9295979a-ed77-406e-8208-981fbe17b128",
   "metadata": {},
   "outputs": [],
   "source": [
    "Kinematics.populate()\n",
    "Kinematics()\n"
   ]
  },
  {
   "cell_type": "markdown",
   "id": "ee2f92f2-ae29-48c3-b2c0-d889327a603c",
   "metadata": {},
   "source": [
    "### Table Operators\n",
    "\n",
    "There are several [operators](https://datajoint.com/docs/core/concepts/query-lang/operators/)\n",
    "that can help look across or within tables. The most common are:\n",
    "\n",
    "- `*` for joining tables\n",
    "- `&` for selecting a subset\n",
    "\n",
    "`*` helps us look at data across tables.\n"
   ]
  },
  {
   "cell_type": "code",
   "execution_count": null,
   "id": "0b2ffaae-0228-495f-9227-49508ee5dfc7",
   "metadata": {},
   "outputs": [],
   "source": [
    "Recording * Equipment\n"
   ]
  },
  {
   "cell_type": "markdown",
   "id": "7e20e2ab-97fe-4087-b263-10ec160372f2",
   "metadata": {},
   "source": [
    "`&` helps apply conditions for subsets.\n"
   ]
  },
  {
   "cell_type": "code",
   "execution_count": null,
   "id": "8f74ae94-b2a9-498a-8032-5aeb0b592802",
   "metadata": {},
   "outputs": [],
   "source": [
    "Kinematics & \"average_velocity < 4\"\n"
   ]
  },
  {
   "cell_type": "markdown",
   "id": "b766e3e9-4e3d-47f2-97a8-eeffde821135",
   "metadata": {},
   "source": [
    "Projection (`proj`) is a useful function for renaming table attributes in a foreign key\n",
    "reference. For example, a subject entry could also be a referenced as a\n",
    "[father in a breeding pair](https://github.com/datajoint/element-animal/blob/main/element_animal/genotyping.py#L97-L128).\n",
    "\n",
    "We can also run simple calculations in projections. Note the use of `CURDATE`, the\n",
    "current date in native MySQL.\n"
   ]
  },
  {
   "cell_type": "code",
   "execution_count": null,
   "id": "e8a80c41-6ff0-47f5-86e3-0d820990fdb5",
   "metadata": {},
   "outputs": [],
   "source": [
    "Subject.proj(age=\"CURDATE() - dob\")"
   ]
  },
  {
   "cell_type": "markdown",
   "id": "bd339bf0-ad0f-4991-ba5d-ea97469ae71f",
   "metadata": {},
   "source": [
    "## Exercise\n",
    "\n",
    "Without referring to the answers below ...\n",
    "\n",
    "1. Ingest the following subject information and run the kinematics calculations.\n",
    "2. Visualize the relationship between age and velocity as a scatter plot.\n"
   ]
  },
  {
   "cell_type": "code",
   "execution_count": null,
   "id": "4b47d8fa-1c38-40f6-966a-a3fcdd1d232c",
   "metadata": {},
   "outputs": [],
   "source": [
    "subjects = [\n",
    "    [2, \"M\", \"2023-01-03\"],\n",
    "    [3, \"F\", \"2023-01-02\"],\n",
    "    [4, \"F\", \"2023-01-03\"],\n",
    "    [5, \"M\", \"2023-01-05\"],\n",
    "    [6, \"M\", \"2023-01-05\"],\n",
    "    [7, \"F\", \"2023-01-06\"],\n",
    "    [8, \"M\", \"2023-01-07\"],\n",
    "    [9, \"F\", \"2023-01-10\"],\n",
    "]\n"
   ]
  },
  {
   "cell_type": "code",
   "execution_count": null,
   "id": "8e3b052b-99f6-40ab-af35-101fd848a3e7",
   "metadata": {},
   "outputs": [],
   "source": [
    "from datetime import date\n",
    "import matplotlib.pyplot as plt\n",
    "\n",
    "## Your code here ##\n",
    "a, b = None, None\n",
    "\n",
    "plt.scatter(a, b)\n"
   ]
  },
  {
   "cell_type": "markdown",
   "id": "b12a0799-7710-4c99-9e18-a72ab1a7b243",
   "metadata": {
    "tags": []
   },
   "source": [
    "Our answers hidden in this cell\n",
    "\n",
    "<!--\n",
    "## With projection\n",
    "age, velocity = (\n",
    "    (Kinematics * Subject)\n",
    "    .proj(age=\"CURDATE() - dob\", velocity=\"average_velocity\")\n",
    "    .fetch(\"age\", \"velocity\")\n",
    ")\n",
    "## Without projection\n",
    "dob, velocity = (Subject * Kinematics).fetch(\"dob\", \"average_velocity\")\n",
    "age = np.array([x.days for x in (date.today() - dob)])\n",
    "plt.scatter(age, velocity)\n",
    "-->\n"
   ]
  }
 ],
 "metadata": {
  "kernelspec": {
   "display_name": "Python 3 (ipykernel)",
   "language": "python",
   "name": "python3"
  },
  "language_info": {
   "codemirror_mode": {
    "name": "ipython",
    "version": 3
   },
   "file_extension": ".py",
   "mimetype": "text/x-python",
   "name": "python",
   "nbconvert_exporter": "python",
   "pygments_lexer": "ipython3",
   "version": "3.9.5"
  }
 },
 "nbformat": 4,
 "nbformat_minor": 5
}
