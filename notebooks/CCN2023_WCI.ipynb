{
 "cells": [
  {
   "cell_type": "markdown",
   "id": "8168929d",
   "metadata": {
    "tags": []
   },
   "source": [
    "# CCN 2023 Workshop\n",
    "\n",
    "[Codebook](https://codebook.datajoint.com/hub/?works_context={%22workflow_template%22:%22workshop[…]:%22datajoint-tutorial%22,%22workflow%22:%22ccn2023%22})\n",
    "\n",
    "This notebooks demonstrates processing calcium imaging scans within DataJoint using CaImAn analysis package.\n",
    "\n",
    "### How does DataJoint help?\n",
    "\n",
    "DataJoint is basically a Science Operations framework, like MLOps frameworks. Manages & analyzes data from multimodal neuroscience experiments.\n",
    "\n",
    "Workflow calcium imaging\n",
    "\n",
    " - Organizes metadata from recordings and other resources (e.g. animal-related),\n",
    " - Runs the caiman within the workflow without losing track of the input parameters,\n",
    " - Stores the results without losing input-output connection.\n",
    " \n",
    "\n",
    "### How is DataJoint related to CaImAn?\n",
    "Modern calcium imaging analysis, like CaImAn, are pipelines that do some or all of \n",
    "MotionCorrection, Segmentation, Classification, Trace extraction tasks.\n",
    "\n",
    "Workflow-calcium-imaging is designed to run these packages and store their outputs along with animal colony metadata.\n",
    "\n",
    "\n",
    "### What does the workflow specifically do?\n",
    "\n",
    "- Stores the relative paths of calcium imaging scans in the database.\n",
    "- Parses metadata from the scan files and stores in the database.\n",
    "- Runs the caiman within the workflow, user has to provide the caiman parameters. Parameters are also stored in the database.\n",
    "- After the analysis, the results are stored in dedicated tables. The pipeline design very much aligns with caiman outputs.\n",
    "    For instance, the caiman pipeline does MotionCorrection, Segmentation, Classification, and Trace extraction. Results related to these\n",
    "    tasks are stored in separate tables.\n",
    "- All metadata and results can be easily accessed via queries, allowing easy downstream analysis.\n",
    "\n",
    "\n"
   ]
  },
  {
   "cell_type": "code",
   "execution_count": null,
   "id": "6421a4c7",
   "metadata": {},
   "outputs": [],
   "source": [
    "import os\n",
    "import datajoint as dj\n",
    "import getpass\n",
    "import numpy as np\n",
    "from matplotlib import pyplot as plt\n",
    "import getpass"
   ]
  },
  {
   "cell_type": "markdown",
   "id": "a9b513e2",
   "metadata": {},
   "source": [
    "## Configuration\n",
    "\n",
    "(Required after installing the workflow on local. Skip this step in the Codebook.)\n",
    "\n",
    "Enter database credentials. A DataJoint workflow requires a connection to an existing relational database. The connection setup parameters are defined in the dj.config python dictionary."
   ]
  },
  {
   "cell_type": "code",
   "execution_count": null,
   "id": "f2b062a6",
   "metadata": {},
   "outputs": [],
   "source": [
    "dj.config[\"database.user\"] = \"tdincer\"\n",
    "\n",
    "#os.makedirs(f\"/home/{dj.config['database.user']}/inbox\", exist_ok=True)\n",
    "\n",
    "dj.config[\"custom\"] = {}\n",
    "dj.config[\"custom\"] = {\n",
    "    \"database.prefix\": dj.config[\"database.user\"] + \"_ccn2023_\",\n",
    "    \"imaging_root_data_dir\": \"/home/data\",\n",
    "    \"processed_root_data_dir\": f\"/home/{dj.config['database.user']}/outbox\",\n",
    "}"
   ]
  },
  {
   "cell_type": "markdown",
   "id": "649879e4-f376-4f20-98e0-1655110259e6",
   "metadata": {},
   "source": [
    "Import schemas of the workflow-calcium-imaging to interact with the database."
   ]
  },
  {
   "cell_type": "code",
   "execution_count": null,
   "id": "aff97bd7-c756-478c-ae35-ee932c72ed8e",
   "metadata": {},
   "outputs": [],
   "source": [
    "from workflow_calcium_imaging.pipeline import subject, session, imaging, scan, Equipment"
   ]
  },
  {
   "cell_type": "markdown",
   "id": "f3ae456a-45be-4e97-8a48-4e45f7cebc59",
   "metadata": {},
   "source": [
    "Ingesting raw data"
   ]
  },
  {
   "cell_type": "code",
   "execution_count": null,
   "id": "8f9f7c34-1e7b-4e1e-bfa5-3ea7c00566a3",
   "metadata": {},
   "outputs": [],
   "source": [
    "dj.Diagram(subject.Subject) + dj.Diagram(session.Session) + dj.Diagram(scan)"
   ]
  },
  {
   "cell_type": "markdown",
   "id": "6f3159cd-79b7-46ce-b261-38461c7d107c",
   "metadata": {
    "tags": []
   },
   "source": [
    "Processing scans with CaImAn"
   ]
  },
  {
   "cell_type": "code",
   "execution_count": null,
   "id": "09df2bc7-946c-4bc2-bf2b-a331e55a7f65",
   "metadata": {},
   "outputs": [],
   "source": [
    "dj.Diagram(scan.Scan) + dj.Diagram(imaging.Processing) + dj.Diagram(imaging.ProcessingParamSet)\n"
   ]
  },
  {
   "cell_type": "markdown",
   "id": "5769ef66-bfff-43df-a76a-58ad297ed8a3",
   "metadata": {
    "jp-MarkdownHeadingCollapsed": true,
    "tags": []
   },
   "source": [
    "Analysis Outputs"
   ]
  },
  {
   "cell_type": "code",
   "execution_count": null,
   "id": "ebf20a06-eb1a-43e4-9964-797d8c6f265a",
   "metadata": {},
   "outputs": [],
   "source": [
    "dj.Diagram(imaging.Processing) + \\\n",
    "dj.Diagram(imaging.Curation) + \\\n",
    "dj.Diagram(imaging.MotionCorrection) + \\\n",
    "dj.Diagram(imaging.MaskClassification) + \\\n",
    "dj.Diagram(imaging.Activity) + \\\n",
    "dj.Diagram(imaging.Fluorescence)\n"
   ]
  },
  {
   "cell_type": "markdown",
   "id": "1c7c83c2",
   "metadata": {
    "tags": []
   },
   "source": [
    "## Populating the database"
   ]
  },
  {
   "cell_type": "code",
   "execution_count": null,
   "id": "8ad2567d-5817-412a-bb60-819a4b47bf88",
   "metadata": {},
   "outputs": [],
   "source": [
    "from workflow_calcium_imaging.pipeline import subject, session, imaging, scan, Equipment\n",
    "from workflow_calcium_imaging.ingest import ingest_subjects, ingest_sessions  # csv loaders\n",
    "import csv"
   ]
  },
  {
   "cell_type": "code",
   "execution_count": null,
   "id": "c026f92d",
   "metadata": {
    "tags": []
   },
   "outputs": [],
   "source": [
    "sessions_csv_path = f\"/home/{dj.config['database.user']}/sessions.csv\"\n",
    "subject_csv_path = f\"/home/{dj.config['database.user']}/subjects.csv\"\n",
    "\n",
    "with open(subject_csv_path, 'w', newline='') as f:\n",
    "    csv_writer = csv.writer(f)\n",
    "    csv_writer.writerow([\"subject\", \"sex\", \"subject_birth_date\"])\n",
    "    csv_writer.writerow([\"subject0\", \"M\", \"2023-02-01\"])\n",
    "\n",
    "with open(sessions_csv_path, 'w', newline='') as f:\n",
    "    csv_writer = csv.writer(f)\n",
    "    csv_writer.writerow([\"subject\",\"session_dir\"])\n",
    "    csv_writer.writerow([\"subject0\",\"subject0/session1/\"])\n",
    "    \n",
    "ingest_subjects(subject_csv_path=subject_csv_path)\n",
    "ingest_sessions(session_csv_path=sessions_csv_path)\n",
    "\n",
    "params_caiman = {\n",
    "    \"decay_time\": 0.4,\n",
    "    \"strides\": (48, 48),\n",
    "    \"overlaps\": (24, 24),\n",
    "    \"max_shifts\": (6, 6),\n",
    "    \"max_deviation_rigid\": 3,\n",
    "    \"pw_rigid\": True,\n",
    "    \"rolling_sum\": True,\n",
    "    \"only_init\": True,\n",
    "    \"use_cnn\": False,\n",
    "}\n",
    "    \n",
    "imaging.ProcessingParamSet.insert_new_params(\n",
    "    processing_method=\"caiman\", \n",
    "    paramset_idx=0,\n",
    "    params=params_caiman,\n",
    "    paramset_desc=\"Calcium imaging analysis with CaImAn using default parameters\")\n"
   ]
  },
  {
   "cell_type": "markdown",
   "id": "e122c0aa",
   "metadata": {},
   "source": [
    "Next, we'll trigger the relevant populate commands."
   ]
  },
  {
   "cell_type": "code",
   "execution_count": null,
   "id": "799367ca-29e5-4f98-bee3-d265f9aa7bce",
   "metadata": {},
   "outputs": [],
   "source": [
    "session.Session()"
   ]
  },
  {
   "cell_type": "code",
   "execution_count": null,
   "id": "d1fa7d55-901d-4726-9d60-de95ac1c2cb1",
   "metadata": {},
   "outputs": [],
   "source": [
    "imaging.ProcessingParamSet()"
   ]
  },
  {
   "cell_type": "code",
   "execution_count": null,
   "id": "4893ef00",
   "metadata": {
    "tags": []
   },
   "outputs": [],
   "source": [
    "from workflow_calcium_imaging import process\n",
    "\n",
    "process.run()\n",
    "session_key = (session.Session & \"subject='subject0'\").fetch('KEY')[0]\n",
    "imaging.ProcessingTask.insert1(\n",
    "    dict(\n",
    "        session_key,\n",
    "        scan_id=0,\n",
    "        paramset_idx=0,\n",
    "        processing_output_dir=\"subject0/session1/\",\n",
    "        task_mode=\"trigger\"\n",
    "    ),\n",
    "    skip_duplicates=True\n",
    ")\n",
    "process.run()"
   ]
  },
  {
   "cell_type": "markdown",
   "id": "1f181770",
   "metadata": {},
   "source": [
    "And then, we'll insert new Curation to trigger ingestion of curated results, followed by the same process.run automation."
   ]
  },
  {
   "cell_type": "code",
   "execution_count": null,
   "id": "98766d79",
   "metadata": {},
   "outputs": [],
   "source": [
    "key = (imaging.ProcessingTask & session_key).fetch1('KEY')\n",
    "imaging.Curation().create1_from_processing_task(key)\n",
    "process.run()"
   ]
  },
  {
   "cell_type": "markdown",
   "id": "84a93a82-3e38-4f98-9535-41213bead60e",
   "metadata": {},
   "source": [
    "## Interacting with results"
   ]
  },
  {
   "cell_type": "code",
   "execution_count": null,
   "id": "1b6272be-2670-424d-ba2f-c7c4f2ee7c08",
   "metadata": {},
   "outputs": [],
   "source": [
    "traces = (imaging.Activity.Trace & \"extraction_method='caiman_dff'\").fetch('activity_trace')"
   ]
  },
  {
   "cell_type": "code",
   "execution_count": null,
   "id": "04c7c0c1-ef38-4d0f-a7ea-06c8f2db3359",
   "metadata": {},
   "outputs": [],
   "source": [
    "imaging.Activity.Trace()"
   ]
  },
  {
   "cell_type": "code",
   "execution_count": null,
   "id": "f755558b-b107-401c-99b0-b2d29712213f",
   "metadata": {},
   "outputs": [],
   "source": [
    "plt.plot(traces[0]);"
   ]
  }
 ],
 "metadata": {
  "kernelspec": {
   "display_name": "Python 3 (ipykernel)",
   "language": "python",
   "name": "python3"
  },
  "language_info": {
   "codemirror_mode": {
    "name": "ipython",
    "version": 3
   },
   "file_extension": ".py",
   "mimetype": "text/x-python",
   "name": "python",
   "nbconvert_exporter": "python",
   "pygments_lexer": "ipython3",
   "version": "3.9.5"
  }
 },
 "nbformat": 4,
 "nbformat_minor": 5
}
