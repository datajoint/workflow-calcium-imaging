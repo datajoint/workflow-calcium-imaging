{
 "cells": [
  {
   "attachments": {},
   "cell_type": "markdown",
   "metadata": {},
   "source": [
    "# DataJoint Workflow Calcium Imaging Demo\n",
    "\n",
    "This notebook demonstrates using DataJoint's open-source Elements packages to build a workflow for\n",
    "calcium imaging. For a detailed tutorial, please see our tutorial notebooks."
   ]
  },
  {
   "attachments": {},
   "cell_type": "markdown",
   "metadata": {},
   "source": [
    "![Raw Scans](../images/rawscans.gif) ![Motion Corrected\n",
    "Scans](../images/motioncorrectedscans.gif) \n",
    "\n",
    "![Cell Segmentation](../images/cellsegmentation.png) ![Calcium\n",
    "Events](../images/calciumtraces.png) \n",
    "\n",
    "Left to right: Raw scans, Motion corrected scans, Cell segmentation, Calcium events"
   ]
  },
  {
   "attachments": {},
   "cell_type": "markdown",
   "metadata": {},
   "source": [
    "We'll begin by importing the dependencies, then viewing all the tables in the workflow.\n",
    "After this, we will insert, populate, and analyze calcium imaging data"
   ]
  },
  {
   "cell_type": "code",
   "execution_count": 3,
   "metadata": {
    "tags": [
     "hide-input"
    ]
   },
   "outputs": [],
   "source": [
    "# Import Statements\n",
    "\n",
    "import os\n",
    "\n",
    "if os.path.basename(os.getcwd()) == \"notebooks\":\n",
    "    os.chdir(\"..\")\n",
    "\n",
    "import datajoint as dj\n",
    "import datetime\n",
    "import matplotlib.pyplot as plt\n",
    "import numpy as np\n",
    "from workflow_calcium_imaging.pipeline import subject, session, scan, imaging\n",
    "from element_calcium_imaging.plotting.widget import main"
   ]
  },
  {
   "cell_type": "code",
   "execution_count": 4,
   "metadata": {},
   "outputs": [
    {
     "data": {
      "image/svg+xml": "<svg height=\"657pt\" viewBox=\"0.00 0.00 1517.50 657.00\" width=\"1518pt\" xmlns=\"http://www.w3.org/2000/svg\" xmlns:xlink=\"http://www.w3.org/1999/xlink\">\n<g class=\"graph\" id=\"graph0\" transform=\"scale(1 1) rotate(0) translate(4 653)\">\n<title>%3</title>\n<polygon fill=\"white\" points=\"-4,4 -4,-653 1513.5,-653 1513.5,4 -4,4\" stroke=\"transparent\"/>\n<!-- 0 -->\n<g class=\"node\" id=\"node1\">\n<title>0</title>\n<ellipse cx=\"693\" cy=\"-205.5\" fill=\"#ff8800\" fill-opacity=\"0.501961\" rx=\"2\" ry=\"2\" stroke=\"#ff8800\" stroke-opacity=\"0.501961\"/>\n<text fill=\"#ff8800\" fill-opacity=\"0.501961\" font-family=\"arial\" font-size=\"1.00\" text-anchor=\"middle\" x=\"693\" y=\"-205.2\">0</text>\n</g>\n<!-- imaging.Fluorescence.Trace -->\n<g class=\"node\" id=\"node25\">\n<title>imaging.Fluorescence.Trace</title>\n<g id=\"a_node25\"><a xlink:title=\"→ imaging.Fluorescence\r→ imaging.Segmentation.Mask\r→ scan.Channel.proj(fluo_channel=&quot;channel&quot;)\r------------------------------\rfluorescence         \rneuropil_fluorescence=null \r\">\n<polygon fill=\"transparent\" points=\"632,-77.5 492,-77.5 492,-58.5 632,-58.5 632,-77.5\" stroke=\"transparent\"/>\n<text font-family=\"arial\" font-size=\"10.00\" text-anchor=\"middle\" x=\"562\" y=\"-65.5\">imaging.Fluorescence.Trace</text>\n</a>\n</g>\n</g>\n<!-- 0&#45;&gt;imaging.Fluorescence.Trace -->\n<g class=\"edge\" id=\"edge1\">\n<title>0-&gt;imaging.Fluorescence.Trace</title>\n<path d=\"M690.99,-204.32C671.25,-202.55 512.46,-187.26 485,-152 475.44,-139.73 477.45,-130.6 485,-117 495.78,-97.58 518.04,-84.99 535.87,-77.6\" fill=\"none\" stroke=\"#000000\" stroke-opacity=\"0.250980\" stroke-width=\"0.75\"/>\n</g>\n<!-- 1 -->\n<g class=\"node\" id=\"node2\">\n<title>1</title>\n<ellipse cx=\"753\" cy=\"-276.5\" fill=\"#ff8800\" fill-opacity=\"0.501961\" rx=\"2\" ry=\"2\" stroke=\"#ff8800\" stroke-opacity=\"0.501961\"/>\n<text fill=\"#ff8800\" fill-opacity=\"0.501961\" font-family=\"arial\" font-size=\"1.00\" text-anchor=\"middle\" x=\"753\" y=\"-276.2\">1</text>\n</g>\n<!-- imaging.Segmentation.Mask -->\n<g class=\"node\" id=\"node20\">\n<title>imaging.Segmentation.Mask</title>\n<g id=\"a_node20\"><a xlink:title=\"→ imaging.Segmentation\rmask                 \r------------------------------\r→ scan.Channel.proj(segmentation_channel=&quot;channel&quot;)\rmask_npix            \rmask_center_x        \rmask_center_y        \rmask_center_z=null   \rmask_xpix            \rmask_ypix            \rmask_zpix=null       \rmask_weights         \r\">\n<polygon fill=\"transparent\" points=\"438,-144 298,-144 298,-125 438,-125 438,-144\" stroke=\"transparent\"/>\n<text font-family=\"arial\" font-size=\"10.00\" text-anchor=\"start\" text-decoration=\"underline\" x=\"306\" y=\"-133\">imaging.Segmentation.Mask</text>\n</a>\n</g>\n</g>\n<!-- 1&#45;&gt;imaging.Segmentation.Mask -->\n<g class=\"edge\" id=\"edge2\">\n<title>1-&gt;imaging.Segmentation.Mask</title>\n<path d=\"M752.14,-274.45C749.73,-271.57 742.59,-263.48 735,-259 627.61,-195.61 483.16,-159.24 411.74,-144.02\" fill=\"none\" stroke=\"#000000\" stroke-dasharray=\"5,2\" stroke-opacity=\"0.250980\" stroke-width=\"0.75\"/>\n</g>\n<!-- 2 -->\n<g class=\"node\" id=\"node3\">\n<title>2</title>\n<ellipse cx=\"1010\" cy=\"-276.5\" fill=\"#ff8800\" fill-opacity=\"0.501961\" rx=\"2\" ry=\"2\" stroke=\"#ff8800\" stroke-opacity=\"0.501961\"/>\n<text fill=\"#ff8800\" fill-opacity=\"0.501961\" font-family=\"arial\" font-size=\"1.00\" text-anchor=\"middle\" x=\"1010\" y=\"-276.2\">2</text>\n</g>\n<!-- imaging.MotionCorrection -->\n<g class=\"node\" id=\"node19\">\n<title>imaging.MotionCorrection</title>\n<g id=\"a_node19\"><a xlink:title=\"→ imaging.Curation\r------------------------------\r→ scan.Channel.proj(motion_correct_channel=&quot;channel&quot;)\r\">\n<ellipse cx=\"1196\" cy=\"-205.5\" fill=\"#00007f\" fill-opacity=\"0.250980\" rx=\"96\" ry=\"17.5\" stroke=\"#00007f\" stroke-opacity=\"0.250980\"/>\n<text fill=\"#00007f\" fill-opacity=\"0.627451\" font-family=\"arial\" font-size=\"12.00\" text-anchor=\"middle\" x=\"1196\" y=\"-202.4\">imaging.MotionCorrection</text>\n</a>\n</g>\n</g>\n<!-- 2&#45;&gt;imaging.MotionCorrection -->\n<g class=\"edge\" id=\"edge3\">\n<title>2-&gt;imaging.MotionCorrection</title>\n<path d=\"M1011.61,-274.9C1024,-270.31 1105.17,-240.19 1155.6,-221.49\" fill=\"none\" stroke=\"#000000\" stroke-dasharray=\"5,2\" stroke-opacity=\"0.250980\" stroke-width=\"0.75\"/>\n</g>\n<!-- subject.Subject -->\n<g class=\"node\" id=\"node4\">\n<title>subject.Subject</title>\n<g id=\"a_node4\"><a xlink:title=\"subject              \r------------------------------\rsubject_nickname=&quot;&quot;  \rsex                  \rsubject_birth_date   \rsubject_description=&quot;&quot; \r\">\n<polygon fill=\"#00ff00\" fill-opacity=\"0.188235\" points=\"1308,-649 1210,-649 1210,-614 1308,-614 1308,-649\" stroke=\"#00ff00\" stroke-opacity=\"0.188235\"/>\n<text fill=\"darkgreen\" font-family=\"arial\" font-size=\"12.00\" text-anchor=\"start\" text-decoration=\"underline\" x=\"1218\" y=\"-629.4\">subject.Subject</text>\n</a>\n</g>\n</g>\n<!-- session.Session -->\n<g class=\"node\" id=\"node5\">\n<title>session.Session</title>\n<g id=\"a_node5\"><a xlink:title=\"→ subject.Subject\rsession_datetime     \r\">\n<polygon fill=\"#00ff00\" fill-opacity=\"0.188235\" points=\"1311,-578 1207,-578 1207,-543 1311,-543 1311,-578\" stroke=\"#00ff00\" stroke-opacity=\"0.188235\"/>\n<text fill=\"darkgreen\" font-family=\"arial\" font-size=\"12.00\" text-anchor=\"start\" text-decoration=\"underline\" x=\"1215\" y=\"-558.4\">session.Session</text>\n</a>\n</g>\n</g>\n<!-- subject.Subject&#45;&gt;session.Session -->\n<g class=\"edge\" id=\"edge4\">\n<title>subject.Subject-&gt;session.Session</title>\n<path d=\"M1259,-613.8C1259,-602.95 1259,-588.87 1259,-578.05\" fill=\"none\" stroke=\"#000000\" stroke-opacity=\"0.250980\" stroke-width=\"0.75\"/>\n</g>\n<!-- scan.Scan -->\n<g class=\"node\" id=\"node7\">\n<title>scan.Scan</title>\n<g id=\"a_node7\"><a xlink:title=\"→ session.Session\rscan_id              \r------------------------------\r→ [nullable] `kushalbakshi_reference`.`equipment`\r→ scan.AcquisitionSoftware\rscan_notes=&quot;&quot;        \r\">\n<polygon fill=\"#00ff00\" fill-opacity=\"0.188235\" points=\"1228.5,-507 1155.5,-507 1155.5,-472 1228.5,-472 1228.5,-507\" stroke=\"#00ff00\" stroke-opacity=\"0.188235\"/>\n<text fill=\"darkgreen\" font-family=\"arial\" font-size=\"12.00\" text-anchor=\"start\" text-decoration=\"underline\" x=\"1163.5\" y=\"-487.4\">scan.Scan</text>\n</a>\n</g>\n</g>\n<!-- session.Session&#45;&gt;scan.Scan -->\n<g class=\"edge\" id=\"edge5\">\n<title>session.Session-&gt;scan.Scan</title>\n<path d=\"M1242.78,-542.8C1232.25,-531.95 1218.57,-517.87 1208.07,-507.05\" fill=\"none\" stroke=\"#000000\" stroke-opacity=\"0.250980\" stroke-width=\"0.75\"/>\n</g>\n<!-- scan.ScanLocation -->\n<g class=\"node\" id=\"node6\">\n<title>scan.ScanLocation</title>\n<g id=\"a_node6\"><a xlink:title=\"→ scan.Scan\r------------------------------\r→ `kushalbakshi_lab`.`#location`\r\">\n<polygon fill=\"#00ff00\" fill-opacity=\"0.188235\" points=\"1386.5,-436 1267.5,-436 1267.5,-401 1386.5,-401 1386.5,-436\" stroke=\"#00ff00\" stroke-opacity=\"0.188235\"/>\n<text fill=\"darkgreen\" font-family=\"arial\" font-size=\"12.00\" text-anchor=\"middle\" x=\"1327\" y=\"-415.4\">scan.ScanLocation</text>\n</a>\n</g>\n</g>\n<!-- scan.Scan&#45;&gt;scan.ScanLocation -->\n<g class=\"edge\" id=\"edge6\">\n<title>scan.Scan-&gt;scan.ScanLocation</title>\n<path d=\"M1224.34,-471.97C1245.55,-461.13 1273.2,-447 1294.46,-436.13\" fill=\"none\" stroke=\"#000000\" stroke-opacity=\"0.250980\" stroke-width=\"2\"/>\n</g>\n<!-- scan.ScanInfo -->\n<g class=\"node\" id=\"node10\">\n<title>scan.ScanInfo</title>\n<g id=\"a_node10\"><a xlink:title=\"→ scan.Scan\r------------------------------\rnfields              \rnchannels            \rndepths              \rnframes              \rnrois                \rx=null               \ry=null               \rz=null               \rfps                  \rbidirectional        \rusecs_per_line=null  \rfill_fraction=null   \rscan_datetime=null   \rscan_duration=null   \rbidirectional_z=null \r\">\n<ellipse cx=\"1192\" cy=\"-418.5\" fill=\"#00007f\" fill-opacity=\"0.250980\" rx=\"57.5\" ry=\"17.5\" stroke=\"#00007f\" stroke-opacity=\"0.250980\"/>\n<text fill=\"#00007f\" fill-opacity=\"0.627451\" font-family=\"arial\" font-size=\"12.00\" text-anchor=\"middle\" x=\"1192\" y=\"-415.4\">scan.ScanInfo</text>\n</a>\n</g>\n</g>\n<!-- scan.Scan&#45;&gt;scan.ScanInfo -->\n<g class=\"edge\" id=\"edge7\">\n<title>scan.Scan-&gt;scan.ScanInfo</title>\n<path d=\"M1192,-471.8C1192,-460.95 1192,-446.87 1192,-436.05\" fill=\"none\" stroke=\"#000000\" stroke-opacity=\"0.250980\" stroke-width=\"2\"/>\n</g>\n<!-- imaging.ProcessingTask -->\n<g class=\"node\" id=\"node13\">\n<title>imaging.ProcessingTask</title>\n<g id=\"a_node13\"><a xlink:title=\"→ scan.Scan\r→ imaging.ProcessingParamSet\r------------------------------\rprocessing_output_dir \rtask_mode=&quot;load&quot;     \r\">\n<polygon fill=\"#00ff00\" fill-opacity=\"0.188235\" points=\"1006.5,-436 859.5,-436 859.5,-401 1006.5,-401 1006.5,-436\" stroke=\"#00ff00\" stroke-opacity=\"0.188235\"/>\n<text fill=\"darkgreen\" font-family=\"arial\" font-size=\"12.00\" text-anchor=\"middle\" x=\"933\" y=\"-415.4\">imaging.ProcessingTask</text>\n</a>\n</g>\n</g>\n<!-- scan.Scan&#45;&gt;imaging.ProcessingTask -->\n<g class=\"edge\" id=\"edge8\">\n<title>scan.Scan-&gt;imaging.ProcessingTask</title>\n<path d=\"M1155.44,-478.76C1113.82,-467.67 1045.12,-449.37 995.07,-436.03\" fill=\"none\" stroke=\"#000000\" stroke-opacity=\"0.250980\" stroke-width=\"0.75\"/>\n</g>\n<!-- scan.ScanInfo.ScanFile -->\n<g class=\"node\" id=\"node8\">\n<title>scan.ScanInfo.ScanFile</title>\n<g id=\"a_node8\"><a xlink:title=\"→ scan.ScanInfo\rfile_path            \r\">\n<polygon fill=\"transparent\" points=\"1252.5,-357 1131.5,-357 1131.5,-338 1252.5,-338 1252.5,-357\" stroke=\"transparent\"/>\n<text font-family=\"arial\" font-size=\"10.00\" text-anchor=\"start\" text-decoration=\"underline\" x=\"1139.5\" y=\"-346\">scan.ScanInfo.ScanFile</text>\n</a>\n</g>\n</g>\n<!-- scan.ScanInfo.Field -->\n<g class=\"node\" id=\"node9\">\n<title>scan.ScanInfo.Field</title>\n<g id=\"a_node9\"><a xlink:title=\"→ scan.ScanInfo\rfield_idx            \r------------------------------\rpx_height            \rpx_width             \rum_height=null       \rum_width=null        \rfield_x=null         \rfield_y=null         \rfield_z=null         \rdelay_image=null     \rroi=null             \r\">\n<polygon fill=\"transparent\" points=\"1375,-357 1271,-357 1271,-338 1375,-338 1375,-357\" stroke=\"transparent\"/>\n<text font-family=\"arial\" font-size=\"10.00\" text-anchor=\"start\" text-decoration=\"underline\" x=\"1279\" y=\"-346\">scan.ScanInfo.Field</text>\n</a>\n</g>\n</g>\n<!-- imaging.MotionCorrection.Summary -->\n<g class=\"node\" id=\"node15\">\n<title>imaging.MotionCorrection.Summary</title>\n<g id=\"a_node15\"><a xlink:title=\"→ imaging.MotionCorrection\r→ scan.ScanInfo.Field\r------------------------------\rref_image            \raverage_image        \rcorrelation_image=null \rmax_proj_image=null  \r\">\n<polygon fill=\"transparent\" points=\"1509.5,-144 1336.5,-144 1336.5,-125 1509.5,-125 1509.5,-144\" stroke=\"transparent\"/>\n<text font-family=\"arial\" font-size=\"10.00\" text-anchor=\"middle\" x=\"1423\" y=\"-132\">imaging.MotionCorrection.Summary</text>\n</a>\n</g>\n</g>\n<!-- scan.ScanInfo.Field&#45;&gt;imaging.MotionCorrection.Summary -->\n<g class=\"edge\" id=\"edge9\">\n<title>scan.ScanInfo.Field-&gt;imaging.MotionCorrection.Summary</title>\n<path d=\"M1327.04,-337.97C1343.12,-304.04 1402.43,-178.9 1418.79,-144.37\" fill=\"none\" stroke=\"#000000\" stroke-opacity=\"0.250980\" stroke-width=\"0.75\"/>\n</g>\n<!-- scan.ScanInfo&#45;&gt;scan.ScanInfo.ScanFile -->\n<g class=\"edge\" id=\"edge10\">\n<title>scan.ScanInfo-&gt;scan.ScanInfo.ScanFile</title>\n<path d=\"M1192,-400.8C1192,-387.08 1192,-368.19 1192,-357.27\" fill=\"none\" stroke=\"#000000\" stroke-opacity=\"0.250980\" stroke-width=\"0.75\"/>\n</g>\n<!-- scan.ScanInfo&#45;&gt;scan.ScanInfo.Field -->\n<g class=\"edge\" id=\"edge11\">\n<title>scan.ScanInfo-&gt;scan.ScanInfo.Field</title>\n<path d=\"M1219.46,-403.04C1245.87,-389.13 1284.91,-368.56 1306.72,-357.07\" fill=\"none\" stroke=\"#000000\" stroke-opacity=\"0.250980\" stroke-width=\"0.75\"/>\n</g>\n<!-- scan.Channel -->\n<g class=\"node\" id=\"node11\">\n<title>scan.Channel</title>\n<g id=\"a_node11\"><a xlink:title=\"channel              \r\">\n<polygon fill=\"#000000\" fill-opacity=\"0.125490\" points=\"828.5,-365 751.5,-365 751.5,-330 828.5,-330 828.5,-365\" stroke=\"transparent\"/>\n<text font-family=\"arial\" font-size=\"10.00\" text-anchor=\"start\" text-decoration=\"underline\" x=\"759.5\" y=\"-346\">scan.Channel</text>\n</a>\n</g>\n</g>\n<!-- scan.Channel&#45;&gt;0 -->\n<g class=\"edge\" id=\"edge12\">\n<title>scan.Channel-&gt;0</title>\n<path d=\"M789.75,-329.92C788.71,-311.18 784.66,-280.5 770,-259 748.85,-227.99 702.8,-210.07 694.35,-206.98\" fill=\"none\" stroke=\"#000000\" stroke-opacity=\"0.250980\" stroke-width=\"0.75\"/>\n</g>\n<!-- scan.Channel&#45;&gt;1 -->\n<g class=\"edge\" id=\"edge13\">\n<title>scan.Channel-&gt;1</title>\n<path d=\"M781.04,-329.8C771.46,-311.93 757.18,-285.29 753.76,-278.91\" fill=\"none\" stroke=\"#000000\" stroke-dasharray=\"5,2\" stroke-opacity=\"0.250980\" stroke-width=\"0.75\"/>\n</g>\n<!-- scan.Channel&#45;&gt;2 -->\n<g class=\"edge\" id=\"edge14\">\n<title>scan.Channel-&gt;2</title>\n<path d=\"M828.57,-334.4C887.23,-316 993.63,-282.63 1008.31,-278.03\" fill=\"none\" stroke=\"#000000\" stroke-dasharray=\"5,2\" stroke-opacity=\"0.250980\" stroke-width=\"0.75\"/>\n</g>\n<!-- scan.AcquisitionSoftware -->\n<g class=\"node\" id=\"node12\">\n<title>scan.AcquisitionSoftware</title>\n<g id=\"a_node12\"><a xlink:title=\"acq_software         \r\">\n<polygon fill=\"#000000\" fill-opacity=\"0.125490\" points=\"1189,-578 1061,-578 1061,-543 1189,-543 1189,-578\" stroke=\"transparent\"/>\n<text font-family=\"arial\" font-size=\"10.00\" text-anchor=\"start\" text-decoration=\"underline\" x=\"1069\" y=\"-559\">scan.AcquisitionSoftware</text>\n</a>\n</g>\n</g>\n<!-- scan.AcquisitionSoftware&#45;&gt;scan.Scan -->\n<g class=\"edge\" id=\"edge15\">\n<title>scan.AcquisitionSoftware-&gt;scan.Scan</title>\n<path d=\"M1141.22,-542.8C1151.75,-531.95 1165.43,-517.87 1175.93,-507.05\" fill=\"none\" stroke=\"#000000\" stroke-dasharray=\"5,2\" stroke-opacity=\"0.250980\" stroke-width=\"0.75\"/>\n</g>\n<!-- imaging.Processing -->\n<g class=\"node\" id=\"node22\">\n<title>imaging.Processing</title>\n<g id=\"a_node22\"><a xlink:title=\"→ imaging.ProcessingTask\r------------------------------\rprocessing_time      \rpackage_version=&quot;&quot;   \r\">\n<ellipse cx=\"672\" cy=\"-347.5\" fill=\"#ff0000\" fill-opacity=\"0.125490\" rx=\"13\" ry=\"13\" stroke=\"#ff0000\" stroke-opacity=\"0.125490\"/>\n<text fill=\"#7f0000\" fill-opacity=\"0.627451\" font-family=\"arial\" font-size=\"12.00\" text-anchor=\"middle\" x=\"672\" y=\"-344.4\">imaging.Processing</text>\n</a>\n</g>\n</g>\n<!-- imaging.ProcessingTask&#45;&gt;imaging.Processing -->\n<g class=\"edge\" id=\"edge16\">\n<title>imaging.ProcessingTask-&gt;imaging.Processing</title>\n<path d=\"M870.48,-400.97C808.35,-384.55 717.69,-360.58 684.65,-351.84\" fill=\"none\" stroke=\"#000000\" stroke-opacity=\"0.250980\" stroke-width=\"2\"/>\n</g>\n<!-- imaging.Curation -->\n<g class=\"node\" id=\"node14\">\n<title>imaging.Curation</title>\n<g id=\"a_node14\"><a xlink:title=\"→ imaging.Processing\rcuration_id          \r------------------------------\rcuration_time        \rcuration_output_dir  \rmanual_curation      \rcuration_note=&quot;&quot;     \r\">\n<polygon fill=\"#00ff00\" fill-opacity=\"0.188235\" points=\"726,-294 618,-294 618,-259 726,-259 726,-294\" stroke=\"#00ff00\" stroke-opacity=\"0.188235\"/>\n<text fill=\"darkgreen\" font-family=\"arial\" font-size=\"12.00\" text-anchor=\"start\" text-decoration=\"underline\" x=\"626\" y=\"-274.4\">imaging.Curation</text>\n</a>\n</g>\n</g>\n<!-- imaging.Curation&#45;&gt;imaging.MotionCorrection -->\n<g class=\"edge\" id=\"edge17\">\n<title>imaging.Curation-&gt;imaging.MotionCorrection</title>\n<path d=\"M726.19,-260.78C729.16,-260.14 732.11,-259.54 735,-259 863.87,-234.91 1015.2,-220.23 1108.36,-212.74\" fill=\"none\" stroke=\"#000000\" stroke-opacity=\"0.250980\" stroke-width=\"2\"/>\n</g>\n<!-- imaging.Segmentation -->\n<g class=\"node\" id=\"node21\">\n<title>imaging.Segmentation</title>\n<g id=\"a_node21\"><a xlink:title=\"→ imaging.Curation\r\">\n<ellipse cx=\"368\" cy=\"-205.5\" fill=\"#ff0000\" fill-opacity=\"0.125490\" rx=\"13\" ry=\"13\" stroke=\"#ff0000\" stroke-opacity=\"0.125490\"/>\n<text fill=\"#7f0000\" fill-opacity=\"0.627451\" font-family=\"arial\" font-size=\"12.00\" text-anchor=\"middle\" x=\"368\" y=\"-202.4\">imaging.Segmentation</text>\n</a>\n</g>\n</g>\n<!-- imaging.Curation&#45;&gt;imaging.Segmentation -->\n<g class=\"edge\" id=\"edge18\">\n<title>imaging.Curation-&gt;imaging.Segmentation</title>\n<path d=\"M617.65,-263.16C544.9,-246.65 420.38,-218.39 380.61,-209.36\" fill=\"none\" stroke=\"#000000\" stroke-opacity=\"0.250980\" stroke-width=\"2\"/>\n</g>\n<!-- imaging.MotionCorrection.RigidMotionCorrection -->\n<g class=\"node\" id=\"node16\">\n<title>imaging.MotionCorrection.RigidMotionCorrection</title>\n<g id=\"a_node16\"><a xlink:title=\"→ imaging.MotionCorrection\r------------------------------\routlier_frames=null  \ry_shifts             \rx_shifts             \rz_shifts=null        \ry_std                \rx_std                \rz_std=null           \r\">\n<polygon fill=\"transparent\" points=\"874.5,-144 647.5,-144 647.5,-125 874.5,-125 874.5,-144\" stroke=\"transparent\"/>\n<text font-family=\"arial\" font-size=\"10.00\" text-anchor=\"middle\" x=\"761\" y=\"-132\">imaging.MotionCorrection.RigidMotionCorrection</text>\n</a>\n</g>\n</g>\n<!-- imaging.MotionCorrection.NonRigidMotionCorrection -->\n<g class=\"node\" id=\"node17\">\n<title>imaging.MotionCorrection.NonRigidMotionCorrection</title>\n<g id=\"a_node17\"><a xlink:title=\"→ imaging.MotionCorrection\r------------------------------\routlier_frames=null  \rblock_height         \rblock_width          \rblock_depth          \rblock_count_y        \rblock_count_x        \rblock_count_z        \r\">\n<polygon fill=\"transparent\" points=\"1318.5,-144 1073.5,-144 1073.5,-125 1318.5,-125 1318.5,-144\" stroke=\"transparent\"/>\n<text font-family=\"arial\" font-size=\"10.00\" text-anchor=\"middle\" x=\"1196\" y=\"-132\">imaging.MotionCorrection.NonRigidMotionCorrection</text>\n</a>\n</g>\n</g>\n<!-- imaging.MotionCorrection.Block -->\n<g class=\"node\" id=\"node18\">\n<title>imaging.MotionCorrection.Block</title>\n<g id=\"a_node18\"><a xlink:title=\"→ imaging.MotionCorrection.NonRigidMotionCorrection\rblock_id             \r------------------------------\rblock_y              \rblock_x              \rblock_z              \ry_shifts             \rx_shifts             \rz_shifts=null        \ry_std                \rx_std                \rz_std=null           \r\">\n<polygon fill=\"transparent\" points=\"1273.5,-77.5 1118.5,-77.5 1118.5,-58.5 1273.5,-58.5 1273.5,-77.5\" stroke=\"transparent\"/>\n<text font-family=\"arial\" font-size=\"10.00\" text-anchor=\"start\" text-decoration=\"underline\" x=\"1126.5\" y=\"-66.5\">imaging.MotionCorrection.Block</text>\n</a>\n</g>\n</g>\n<!-- imaging.MotionCorrection.NonRigidMotionCorrection&#45;&gt;imaging.MotionCorrection.Block -->\n<g class=\"edge\" id=\"edge19\">\n<title>imaging.MotionCorrection.NonRigidMotionCorrection-&gt;imaging.MotionCorrection.Block</title>\n<path d=\"M1196,-124.8C1196,-112.42 1196,-89.86 1196,-77.56\" fill=\"none\" stroke=\"#000000\" stroke-opacity=\"0.250980\" stroke-width=\"0.75\"/>\n</g>\n<!-- imaging.MotionCorrection&#45;&gt;imaging.MotionCorrection.Summary -->\n<g class=\"edge\" id=\"edge20\">\n<title>imaging.MotionCorrection-&gt;imaging.MotionCorrection.Summary</title>\n<path d=\"M1243.03,-190.2C1288.88,-176.27 1357.05,-155.55 1394.98,-144.02\" fill=\"none\" stroke=\"#000000\" stroke-opacity=\"0.250980\" stroke-width=\"0.75\"/>\n</g>\n<!-- imaging.MotionCorrection&#45;&gt;imaging.MotionCorrection.RigidMotionCorrection -->\n<g class=\"edge\" id=\"edge21\">\n<title>imaging.MotionCorrection-&gt;imaging.MotionCorrection.RigidMotionCorrection</title>\n<path d=\"M1126.11,-193.41C1039.29,-179.64 893.06,-156.45 814.59,-144\" fill=\"none\" stroke=\"#000000\" stroke-opacity=\"0.250980\" stroke-width=\"2\"/>\n</g>\n<!-- imaging.MotionCorrection&#45;&gt;imaging.MotionCorrection.NonRigidMotionCorrection -->\n<g class=\"edge\" id=\"edge22\">\n<title>imaging.MotionCorrection-&gt;imaging.MotionCorrection.NonRigidMotionCorrection</title>\n<path d=\"M1196,-187.8C1196,-174.08 1196,-155.19 1196,-144.27\" fill=\"none\" stroke=\"#000000\" stroke-opacity=\"0.250980\" stroke-width=\"2\"/>\n</g>\n<!-- imaging.MaskClassification.MaskType -->\n<g class=\"node\" id=\"node23\">\n<title>imaging.MaskClassification.MaskType</title>\n<g id=\"a_node23\"><a xlink:title=\"→ imaging.MaskClassification\r→ imaging.Segmentation.Mask\r------------------------------\r→ imaging.MaskType\rconfidence=null      \r\">\n<polygon fill=\"transparent\" points=\"290.5,-77.5 105.5,-77.5 105.5,-58.5 290.5,-58.5 290.5,-77.5\" stroke=\"transparent\"/>\n<text font-family=\"arial\" font-size=\"10.00\" text-anchor=\"middle\" x=\"198\" y=\"-65.5\">imaging.MaskClassification.MaskType</text>\n</a>\n</g>\n</g>\n<!-- imaging.Segmentation.Mask&#45;&gt;imaging.MaskClassification.MaskType -->\n<g class=\"edge\" id=\"edge23\">\n<title>imaging.Segmentation.Mask-&gt;imaging.MaskClassification.MaskType</title>\n<path d=\"M345.43,-124.93C312.91,-112.6 253.23,-89.96 220.67,-77.6\" fill=\"none\" stroke=\"#000000\" stroke-opacity=\"0.250980\" stroke-width=\"0.75\"/>\n</g>\n<!-- imaging.Segmentation.Mask&#45;&gt;imaging.Fluorescence.Trace -->\n<g class=\"edge\" id=\"edge24\">\n<title>imaging.Segmentation.Mask-&gt;imaging.Fluorescence.Trace</title>\n<path d=\"M393.76,-124.93C430.87,-112.6 498.97,-89.96 536.13,-77.6\" fill=\"none\" stroke=\"#000000\" stroke-opacity=\"0.250980\" stroke-width=\"0.75\"/>\n</g>\n<!-- imaging.Segmentation&#45;&gt;imaging.Segmentation.Mask -->\n<g class=\"edge\" id=\"edge25\">\n<title>imaging.Segmentation-&gt;imaging.Segmentation.Mask</title>\n<path d=\"M368,-192.48C368,-178.74 368,-156.56 368,-144.32\" fill=\"none\" stroke=\"#000000\" stroke-opacity=\"0.250980\" stroke-width=\"0.75\"/>\n</g>\n<!-- imaging.MaskClassification -->\n<g class=\"node\" id=\"node24\">\n<title>imaging.MaskClassification</title>\n<g id=\"a_node24\"><a xlink:title=\"→ imaging.Segmentation\r→ imaging.MaskClassificationMethod\r\">\n<ellipse cx=\"198\" cy=\"-134.5\" fill=\"#ff0000\" fill-opacity=\"0.125490\" rx=\"13\" ry=\"13\" stroke=\"#ff0000\" stroke-opacity=\"0.125490\"/>\n<text fill=\"#7f0000\" fill-opacity=\"0.627451\" font-family=\"arial\" font-size=\"12.00\" text-anchor=\"middle\" x=\"198\" y=\"-131.4\">imaging.MaskClassification</text>\n</a>\n</g>\n</g>\n<!-- imaging.Segmentation&#45;&gt;imaging.MaskClassification -->\n<g class=\"edge\" id=\"edge26\">\n<title>imaging.Segmentation-&gt;imaging.MaskClassification</title>\n<path d=\"M356.32,-199.76C325.26,-187.15 240.92,-152.92 209.77,-140.28\" fill=\"none\" stroke=\"#000000\" stroke-opacity=\"0.250980\" stroke-width=\"0.75\"/>\n</g>\n<!-- imaging.Fluorescence -->\n<g class=\"node\" id=\"node26\">\n<title>imaging.Fluorescence</title>\n<g id=\"a_node26\"><a xlink:title=\"→ imaging.Segmentation\r\">\n<ellipse cx=\"562\" cy=\"-134.5\" fill=\"#ff0000\" fill-opacity=\"0.125490\" rx=\"13\" ry=\"13\" stroke=\"#ff0000\" stroke-opacity=\"0.125490\"/>\n<text fill=\"#7f0000\" fill-opacity=\"0.627451\" font-family=\"arial\" font-size=\"12.00\" text-anchor=\"middle\" x=\"562\" y=\"-131.4\">imaging.Fluorescence</text>\n</a>\n</g>\n</g>\n<!-- imaging.Segmentation&#45;&gt;imaging.Fluorescence -->\n<g class=\"edge\" id=\"edge27\">\n<title>imaging.Segmentation-&gt;imaging.Fluorescence</title>\n<path d=\"M380.14,-200.18C414.98,-187.79 515.03,-152.2 549.87,-139.81\" fill=\"none\" stroke=\"#000000\" stroke-opacity=\"0.250980\" stroke-width=\"2\"/>\n</g>\n<!-- imaging.Processing&#45;&gt;imaging.Curation -->\n<g class=\"edge\" id=\"edge28\">\n<title>imaging.Processing-&gt;imaging.Curation</title>\n<path d=\"M672,-334.48C672,-323.28 672,-306.49 672,-294.03\" fill=\"none\" stroke=\"#000000\" stroke-opacity=\"0.250980\" stroke-width=\"0.75\"/>\n</g>\n<!-- imaging.MaskClassification&#45;&gt;imaging.MaskClassification.MaskType -->\n<g class=\"edge\" id=\"edge29\">\n<title>imaging.MaskClassification-&gt;imaging.MaskClassification.MaskType</title>\n<path d=\"M198,-121.37C198,-108.67 198,-89.04 198,-77.77\" fill=\"none\" stroke=\"#000000\" stroke-opacity=\"0.250980\" stroke-width=\"0.75\"/>\n</g>\n<!-- imaging.Activity.Trace -->\n<g class=\"node\" id=\"node27\">\n<title>imaging.Activity.Trace</title>\n<g id=\"a_node27\"><a xlink:title=\"→ imaging.Activity\r→ imaging.Fluorescence.Trace\r------------------------------\ractivity_trace       \r\">\n<polygon fill=\"transparent\" points=\"757.5,-19 644.5,-19 644.5,0 757.5,0 757.5,-19\" stroke=\"transparent\"/>\n<text font-family=\"arial\" font-size=\"10.00\" text-anchor=\"middle\" x=\"701\" y=\"-7\">imaging.Activity.Trace</text>\n</a>\n</g>\n</g>\n<!-- imaging.Fluorescence.Trace&#45;&gt;imaging.Activity.Trace -->\n<g class=\"edge\" id=\"edge30\">\n<title>imaging.Fluorescence.Trace-&gt;imaging.Activity.Trace</title>\n<path d=\"M583.11,-58.42C609.24,-47.8 653.47,-29.82 679.69,-19.16\" fill=\"none\" stroke=\"#000000\" stroke-opacity=\"0.250980\" stroke-width=\"0.75\"/>\n</g>\n<!-- imaging.Fluorescence&#45;&gt;imaging.Fluorescence.Trace -->\n<g class=\"edge\" id=\"edge31\">\n<title>imaging.Fluorescence-&gt;imaging.Fluorescence.Trace</title>\n<path d=\"M562,-121.37C562,-108.67 562,-89.04 562,-77.77\" fill=\"none\" stroke=\"#000000\" stroke-opacity=\"0.250980\" stroke-width=\"0.75\"/>\n</g>\n<!-- imaging.Activity -->\n<g class=\"node\" id=\"node28\">\n<title>imaging.Activity</title>\n<g id=\"a_node28\"><a xlink:title=\"→ imaging.Fluorescence\r→ imaging.ActivityExtractionMethod\r\">\n<ellipse cx=\"701\" cy=\"-68\" fill=\"#ff0000\" fill-opacity=\"0.125490\" rx=\"13\" ry=\"13\" stroke=\"#ff0000\" stroke-opacity=\"0.125490\"/>\n<text fill=\"#7f0000\" fill-opacity=\"0.627451\" font-family=\"arial\" font-size=\"12.00\" text-anchor=\"middle\" x=\"701\" y=\"-64.9\">imaging.Activity</text>\n</a>\n</g>\n</g>\n<!-- imaging.Fluorescence&#45;&gt;imaging.Activity -->\n<g class=\"edge\" id=\"edge32\">\n<title>imaging.Fluorescence-&gt;imaging.Activity</title>\n<path d=\"M573.85,-128C600.24,-115.75 663.58,-86.37 689.57,-74.3\" fill=\"none\" stroke=\"#000000\" stroke-opacity=\"0.250980\" stroke-width=\"0.75\"/>\n</g>\n<!-- imaging.Activity&#45;&gt;imaging.Activity.Trace -->\n<g class=\"edge\" id=\"edge33\">\n<title>imaging.Activity-&gt;imaging.Activity.Trace</title>\n<path d=\"M701,-54.74C701,-43.97 701,-28.56 701,-19.06\" fill=\"none\" stroke=\"#000000\" stroke-opacity=\"0.250980\" stroke-width=\"0.75\"/>\n</g>\n<!-- imaging.ProcessingParamSet -->\n<g class=\"node\" id=\"node29\">\n<title>imaging.ProcessingParamSet</title>\n<g id=\"a_node29\"><a xlink:title=\"paramset_idx         \r------------------------------\r→ imaging.ProcessingMethod\rparamset_desc        \rparam_set_hash       \rparams               \rUNIQUE INDEX (param_set_hash)\r\">\n<polygon fill=\"#000000\" fill-opacity=\"0.125490\" points=\"1006,-507 860,-507 860,-472 1006,-472 1006,-507\" stroke=\"transparent\"/>\n<text font-family=\"arial\" font-size=\"10.00\" text-anchor=\"start\" text-decoration=\"underline\" x=\"868\" y=\"-488\">imaging.ProcessingParamSet</text>\n</a>\n</g>\n</g>\n<!-- imaging.ProcessingParamSet&#45;&gt;imaging.ProcessingTask -->\n<g class=\"edge\" id=\"edge34\">\n<title>imaging.ProcessingParamSet-&gt;imaging.ProcessingTask</title>\n<path d=\"M933,-471.8C933,-460.95 933,-446.87 933,-436.05\" fill=\"none\" stroke=\"#000000\" stroke-opacity=\"0.250980\" stroke-width=\"0.75\"/>\n</g>\n<!-- imaging.ProcessingMethod -->\n<g class=\"node\" id=\"node30\">\n<title>imaging.ProcessingMethod</title>\n<g id=\"a_node30\"><a xlink:title=\"processing_method    \r------------------------------\rprocessing_method_desc \r\">\n<polygon fill=\"#000000\" fill-opacity=\"0.125490\" points=\"1000,-578 866,-578 866,-543 1000,-543 1000,-578\" stroke=\"transparent\"/>\n<text font-family=\"arial\" font-size=\"10.00\" text-anchor=\"start\" text-decoration=\"underline\" x=\"874\" y=\"-559\">imaging.ProcessingMethod</text>\n</a>\n</g>\n</g>\n<!-- imaging.ProcessingMethod&#45;&gt;imaging.ProcessingParamSet -->\n<g class=\"edge\" id=\"edge35\">\n<title>imaging.ProcessingMethod-&gt;imaging.ProcessingParamSet</title>\n<path d=\"M933,-542.8C933,-531.95 933,-517.87 933,-507.05\" fill=\"none\" stroke=\"#000000\" stroke-dasharray=\"5,2\" stroke-opacity=\"0.250980\" stroke-width=\"0.75\"/>\n</g>\n<!-- imaging.MaskType -->\n<g class=\"node\" id=\"node31\">\n<title>imaging.MaskType</title>\n<g id=\"a_node31\"><a xlink:title=\"mask_type            \r\">\n<polygon fill=\"#000000\" fill-opacity=\"0.125490\" points=\"98,-152 0,-152 0,-117 98,-117 98,-152\" stroke=\"transparent\"/>\n<text font-family=\"arial\" font-size=\"10.00\" text-anchor=\"start\" text-decoration=\"underline\" x=\"8\" y=\"-133\">imaging.MaskType</text>\n</a>\n</g>\n</g>\n<!-- imaging.MaskType&#45;&gt;imaging.MaskClassification.MaskType -->\n<g class=\"edge\" id=\"edge36\">\n<title>imaging.MaskType-&gt;imaging.MaskClassification.MaskType</title>\n<path d=\"M87.37,-116.89C116.34,-104.35 154.93,-87.64 178.04,-77.64\" fill=\"none\" stroke=\"#000000\" stroke-dasharray=\"5,2\" stroke-opacity=\"0.250980\" stroke-width=\"0.75\"/>\n</g>\n<!-- imaging.MaskClassificationMethod -->\n<g class=\"node\" id=\"node32\">\n<title>imaging.MaskClassificationMethod</title>\n<g id=\"a_node32\"><a xlink:title=\"mask_classification_method \r\">\n<polygon fill=\"#000000\" fill-opacity=\"0.125490\" points=\"281.5,-223 112.5,-223 112.5,-188 281.5,-188 281.5,-223\" stroke=\"transparent\"/>\n<text font-family=\"arial\" font-size=\"10.00\" text-anchor=\"start\" text-decoration=\"underline\" x=\"120.5\" y=\"-204\">imaging.MaskClassificationMethod</text>\n</a>\n</g>\n</g>\n<!-- imaging.MaskClassificationMethod&#45;&gt;imaging.MaskClassification -->\n<g class=\"edge\" id=\"edge37\">\n<title>imaging.MaskClassificationMethod-&gt;imaging.MaskClassification</title>\n<path d=\"M197.24,-187.8C197.42,-175.35 197.66,-158.66 197.83,-147.51\" fill=\"none\" stroke=\"#000000\" stroke-opacity=\"0.250980\" stroke-width=\"0.75\"/>\n</g>\n<!-- imaging.CellCompartment -->\n<g class=\"node\" id=\"node33\">\n<title>imaging.CellCompartment</title>\n<g id=\"a_node33\"><a xlink:title=\"cell_compartment     \r\">\n<polygon fill=\"#000000\" fill-opacity=\"0.125490\" points=\"1456,-649 1326,-649 1326,-614 1456,-614 1456,-649\" stroke=\"transparent\"/>\n<text font-family=\"arial\" font-size=\"10.00\" text-anchor=\"start\" text-decoration=\"underline\" x=\"1334\" y=\"-630\">imaging.CellCompartment</text>\n</a>\n</g>\n</g>\n<!-- imaging.ActivityExtractionMethod -->\n<g class=\"node\" id=\"node34\">\n<title>imaging.ActivityExtractionMethod</title>\n<g id=\"a_node34\"><a xlink:title=\"extraction_method    \r\">\n<polygon fill=\"#000000\" fill-opacity=\"0.125490\" points=\"1055.5,-152 892.5,-152 892.5,-117 1055.5,-117 1055.5,-152\" stroke=\"transparent\"/>\n<text font-family=\"arial\" font-size=\"10.00\" text-anchor=\"start\" text-decoration=\"underline\" x=\"900.5\" y=\"-133\">imaging.ActivityExtractionMethod</text>\n</a>\n</g>\n</g>\n<!-- imaging.ActivityExtractionMethod&#45;&gt;imaging.Activity -->\n<g class=\"edge\" id=\"edge38\">\n<title>imaging.ActivityExtractionMethod-&gt;imaging.Activity</title>\n<path d=\"M904.05,-116.97C838.96,-101.6 747.15,-79.9 713.76,-72.02\" fill=\"none\" stroke=\"#000000\" stroke-opacity=\"0.250980\" stroke-width=\"0.75\"/>\n</g>\n</g>\n</svg>",
      "text/plain": [
       "<datajoint.diagram.Diagram at 0x7fd735399650>"
      ]
     },
     "execution_count": 4,
     "metadata": {},
     "output_type": "execute_result"
    }
   ],
   "source": [
    "# Run this cell to view a diagram of the tables that we will use in this demo\n",
    "\n",
    "(\n",
    "    dj.Diagram(subject.Subject) + dj.Diagram(session.Session) + dj.Diagram(scan) + dj.Diagram(imaging)\n",
    ")"
   ]
  },
  {
   "attachments": {},
   "cell_type": "markdown",
   "metadata": {},
   "source": [
    "### Inserting entries on manual tables calls on the `insert()` function within DataJoint\n",
    "\n",
    "For example, to insert data about a subject: \n",
    "```\n",
    "subject.Subject.insert1(\n",
    "    dict(\n",
    "        subject='subject1',\n",
    "        subject_birth_date='2023-01-01',\n",
    "        sex='U',\n",
    "    ),\n",
    "    skip_duplicates=True\n",
    ")\n",
    "```"
   ]
  },
  {
   "attachments": {},
   "cell_type": "markdown",
   "metadata": {},
   "source": [
    "### Automatically process sessions with `Populate()`\n",
    "\n",
    "\n",
    "Once data is inserted into manual tables, the `.populate()` function in DataJoint\n",
    "triggers automatic processing and ingestion routines. \n",
    "\n",
    "For example, to trigger suite2p processing via the `Processing` table:\n",
    "```\n",
    "imaging.Processing.populate()\n",
    "```"
   ]
  },
  {
   "attachments": {},
   "cell_type": "markdown",
   "metadata": {},
   "source": [
    "### Visualize Ingested Data"
   ]
  },
  {
   "cell_type": "code",
   "execution_count": 2,
   "metadata": {},
   "outputs": [
    {
     "data": {
      "application/vnd.jupyter.widget-view+json": {
       "model_id": "c6d32fd732dc416bb5c7045812e00020",
       "version_major": 2,
       "version_minor": 0
      },
      "text/plain": [
       "VBox(children=(HBox(children=(Dropdown(description='Result:', layout=Layout(display='flex', flex_flow='row', g…"
      ]
     },
     "execution_count": 2,
     "metadata": {},
     "output_type": "execute_result"
    }
   ],
   "source": [
    "main(imaging)"
   ]
  },
  {
   "attachments": {},
   "cell_type": "markdown",
   "metadata": {},
   "source": [
    "For a much more in-depth tutorial, be sure to check out our `full_demo.ipynb`."
   ]
  },
  {
   "cell_type": "markdown",
   "metadata": {},
   "source": []
  }
 ],
 "metadata": {
  "kernelspec": {
   "display_name": "Python 3",
   "language": "python",
   "name": "python3"
  },
  "language_info": {
   "codemirror_mode": {
    "name": "ipython",
    "version": 3
   },
   "file_extension": ".py",
   "mimetype": "text/x-python",
   "name": "python",
   "nbconvert_exporter": "python",
   "pygments_lexer": "ipython3",
   "version": "3.7.16"
  },
  "orig_nbformat": 4,
  "vscode": {
   "interpreter": {
    "hash": "949777d72b0d2535278d3dc13498b2535136f6dfe0678499012e853ee9abcab1"
   }
  }
 },
 "nbformat": 4,
 "nbformat_minor": 2
}
